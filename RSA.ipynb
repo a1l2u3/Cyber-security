{
  "nbformat": 4,
  "nbformat_minor": 0,
  "metadata": {
    "colab": {
      "provenance": [],
      "authorship_tag": "ABX9TyMOL0w/SVcCja1FY+0tQF+e",
      "include_colab_link": true
    },
    "kernelspec": {
      "name": "python3",
      "display_name": "Python 3"
    },
    "language_info": {
      "name": "python"
    }
  },
  "cells": [
    {
      "cell_type": "markdown",
      "metadata": {
        "id": "view-in-github",
        "colab_type": "text"
      },
      "source": [
        "<a href=\"https://colab.research.google.com/github/a1l2u3/Cyber-security/blob/CS/RSA.ipynb\" target=\"_parent\"><img src=\"https://colab.research.google.com/assets/colab-badge.svg\" alt=\"Open In Colab\"/></a>"
      ]
    },
    {
      "cell_type": "markdown",
      "source": [
        "RSA algorithm :\n",
        "1]Choose two prime numbers, p and q.\n",
        "\n",
        "2]Calculate n = p * q.\n",
        "\n",
        "3]Calculate φ(n) = (p - 1) * (q - 1).\n",
        "\n",
        "4]Generate a random value e such that 1 < e < φ(n) and gcd(e, φ(n)) = 1.\n",
        "\n",
        "5]Calculate the private exponent d such that d * e ≡ 1 (mod φ(n)).\n",
        "\n",
        "6]For encryption:\n",
        "\n",
        "Iterate over each character in the plaintext.\n",
        "\n",
        "Convert each character to its Unicode code point.\n",
        "\n",
        "Encrypt each code point using RSA encryption: C = message^e mod n.\n",
        "\n",
        "Store the encrypted code points.\n",
        "\n",
        "7]For decryption:\n",
        "\n",
        "Iterate over each encrypted code point.\n",
        "\n",
        "Decrypt each code point using RSA decryption: message = C^d mod n.\n",
        "\n",
        "Convert each decrypted code point back to its character representation.\n",
        "\n",
        "Concatenate the characters to form the decrypted plaintext."
      ],
      "metadata": {
        "id": "CU7j9IJ8q3s9"
      }
    },
    {
      "cell_type": "code",
      "source": [
        "import random\n",
        "import math"
      ],
      "metadata": {
        "id": "56bx9YiBoj7i"
      },
      "execution_count": 1,
      "outputs": []
    },
    {
      "cell_type": "code",
      "source": [
        "p = 7\n",
        "q = 11\n",
        "n = p * q\n",
        "ph = (p - 1) * (q - 1)"
      ],
      "metadata": {
        "id": "c_YRUMxqoggT"
      },
      "execution_count": 2,
      "outputs": []
    },
    {
      "cell_type": "code",
      "source": [
        "def public():\n",
        "    e = random.randrange(1, ph)\n",
        "    return e\n",
        "\n",
        "e = public()"
      ],
      "metadata": {
        "id": "FBnT-NQ0ooQL"
      },
      "execution_count": 3,
      "outputs": []
    },
    {
      "cell_type": "code",
      "source": [
        "def private():\n",
        "    k = random.randrange(1, 100)\n",
        "    d = (1 + (k * ph)) // e\n",
        "    return d\n",
        "\n",
        "d = private()"
      ],
      "metadata": {
        "id": "1hoajzFAosBr"
      },
      "execution_count": 4,
      "outputs": []
    },
    {
      "cell_type": "code",
      "source": [
        "plaintext = \"hello\""
      ],
      "metadata": {
        "id": "-mg3CBubowBd"
      },
      "execution_count": 5,
      "outputs": []
    },
    {
      "cell_type": "code",
      "source": [
        "encrypted_data = []\n",
        "for char in plaintext:\n",
        "    message = ord(char)\n",
        "    C = (message ** e) % n\n",
        "    encrypted_data.append(C)\n",
        "\n",
        "print(\"Encrypted data:\", encrypted_data)\n"
      ],
      "metadata": {
        "colab": {
          "base_uri": "https://localhost:8080/",
          "height": 0
        },
        "id": "Y3UEKEUio0Kj",
        "outputId": "261e0c6c-1f38-42a6-c994-8f1ac6d51097"
      },
      "execution_count": 6,
      "outputs": [
        {
          "output_type": "stream",
          "name": "stdout",
          "text": [
            "Encrypted data: [36, 4, 4, 4, 1]\n"
          ]
        }
      ]
    },
    {
      "cell_type": "code",
      "source": [
        "encrypted_data = []\n",
        "for char in plaintext:\n",
        "    message = ord(char)\n",
        "    C = pow(message, e, n) #message=base,e=raised to,n=modulus\n",
        "    encrypted_data.append(C)\n",
        "    print(\"Encrypted data:\", encrypted_data)"
      ],
      "metadata": {
        "colab": {
          "base_uri": "https://localhost:8080/",
          "height": 0
        },
        "id": "F3obxqHKo31g",
        "outputId": "4eb8d5a5-4eb4-4b63-da76-ed7e776d9a60"
      },
      "execution_count": 10,
      "outputs": [
        {
          "output_type": "stream",
          "name": "stdout",
          "text": [
            "Encrypted data: [36]\n",
            "Encrypted data: [36, 4]\n",
            "Encrypted data: [36, 4, 4]\n",
            "Encrypted data: [36, 4, 4, 4]\n",
            "Encrypted data: [36, 4, 4, 4, 1]\n"
          ]
        }
      ]
    },
    {
      "cell_type": "code",
      "source": [
        "decrypted_data = \"\"\n",
        "for C in encrypted_data:\n",
        "    message = pow(C, d, n)\n",
        "    decrypted_data += chr(message)\n",
        "\n",
        "print(\"Decrypted data:\", decrypted_data)"
      ],
      "metadata": {
        "colab": {
          "base_uri": "https://localhost:8080/",
          "height": 0
        },
        "id": "FR8LZc0ao6yz",
        "outputId": "61524cb9-4ae7-45da-c510-464d824978ee"
      },
      "execution_count": 11,
      "outputs": [
        {
          "output_type": "stream",
          "name": "stdout",
          "text": [
            "Decrypted data: \u0001\u0017\u0017\u0017\u0001\n"
          ]
        }
      ]
    },
    {
      "cell_type": "code",
      "source": [],
      "metadata": {
        "id": "EJEL6Z6Kpk9U"
      },
      "execution_count": null,
      "outputs": []
    }
  ]
}